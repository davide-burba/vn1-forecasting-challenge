{
 "cells": [
  {
   "cell_type": "code",
   "execution_count": null,
   "id": "5081daeb-24ba-400e-acb7-902fb772d1dc",
   "metadata": {},
   "outputs": [],
   "source": [
    "import pandas as pd\n",
    "import numpy as np\n",
    "\n",
    "\n",
    "def compute_competition_score(submission, objective):\n",
    "    abs_err = np.nansum(abs(submission - objective))\n",
    "    err = np.nansum((submission - objective))\n",
    "    score = abs_err + abs(err)\n",
    "    score /= objective.sum().sum()\n",
    "    return score\n",
    "\n",
    "sales = pd.read_csv(\"../data/raw/Phase 0 - Sales.csv\")\n",
    "\n",
    "objective = sales[sales.columns[-13:]]\n",
    "naive_prediction_test = pd.DataFrame({c: sales[sales.columns[-14]].values for c in objective.columns})\n",
    "score = compute_competition_score(naive_prediction_test, objective)\n",
    "print(score) # 0.5246659353681444\n",
    "\n",
    "# build submission with naive predictions\n",
    "naive_submission = pd.read_csv(\"../data/raw/Submission Phase 1 - Random (3).csv\")\n",
    "for c in example_submission.columns[3:]:\n",
    "    naive_submission[c] = sales[sales.columns[-1]].values\n",
    "naive_submission.to_csv(\"~/Downloads/submission_naive.csv\", index=False)\n",
    "# ---> gives score: 0.688207248389"
   ]
  },
  {
   "cell_type": "code",
   "execution_count": null,
   "id": "fe2bfa56-838a-499e-83e2-5a0deac28e8a",
   "metadata": {},
   "outputs": [],
   "source": []
  },
  {
   "cell_type": "code",
   "execution_count": null,
   "id": "f0cd5ebe-a19a-4e79-9eec-1cc8c03b4294",
   "metadata": {},
   "outputs": [],
   "source": []
  }
 ],
 "metadata": {
  "kernelspec": {
   "display_name": "Python 3 (ipykernel)",
   "language": "python",
   "name": "python3"
  },
  "language_info": {
   "codemirror_mode": {
    "name": "ipython",
    "version": 3
   },
   "file_extension": ".py",
   "mimetype": "text/x-python",
   "name": "python",
   "nbconvert_exporter": "python",
   "pygments_lexer": "ipython3",
   "version": "3.11.9"
  }
 },
 "nbformat": 4,
 "nbformat_minor": 5
}
