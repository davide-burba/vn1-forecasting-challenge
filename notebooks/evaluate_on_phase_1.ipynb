{
 "cells": [
  {
   "cell_type": "code",
   "execution_count": null,
   "id": "9e9d904c-6ba5-436f-b228-891d5fdffe15",
   "metadata": {},
   "outputs": [],
   "source": [
    "# Test phase 1\n",
    "from vn1.score import compute_competition_score\n",
    "from vn1.data_loading import load_data\n",
    "import numpy as np\n",
    "import pandas as pd\n",
    "\n",
    "submission = pd.read_csv(\"/tmp/submission_e0c3c1b0301b455cb7795c2fee374985.csv\")\n",
    "sales, price = load_data(2,\"../data/raw\")\n",
    "index_cols = list(submission.columns[:3])\n",
    "submission = submission.set_index(index_cols)\n",
    "objective = sales.set_index(index_cols)[sales.columns[-13:]]\n",
    "compute_competition_score(submission,objective)"
   ]
  },
  {
   "cell_type": "code",
   "execution_count": null,
   "id": "2e34443b-291b-4eaa-817d-6de76ede2947",
   "metadata": {},
   "outputs": [],
   "source": []
  }
 ],
 "metadata": {
  "kernelspec": {
   "display_name": "Python 3 (ipykernel)",
   "language": "python",
   "name": "python3"
  },
  "language_info": {
   "codemirror_mode": {
    "name": "ipython",
    "version": 3
   },
   "file_extension": ".py",
   "mimetype": "text/x-python",
   "name": "python",
   "nbconvert_exporter": "python",
   "pygments_lexer": "ipython3",
   "version": "3.11.9"
  }
 },
 "nbformat": 4,
 "nbformat_minor": 5
}
