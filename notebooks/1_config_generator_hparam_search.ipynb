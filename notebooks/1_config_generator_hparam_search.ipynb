{
 "cells": [
  {
   "cell_type": "code",
   "execution_count": null,
   "metadata": {},
   "outputs": [],
   "source": [
    "import yaml\n",
    "import numpy as np\n",
    "from sklearn.model_selection import ParameterSampler\n",
    "from pathlib import Path\n",
    "import os\n",
    "from copy import deepcopy"
   ]
  },
  {
   "cell_type": "code",
   "execution_count": null,
   "metadata": {},
   "outputs": [],
   "source": [
    "# from vn1.data_loading import load_data\n",
    "# sales, price = load_data(1,\"../data/raw\")"
   ]
  },
  {
   "cell_type": "code",
   "execution_count": null,
   "metadata": {},
   "outputs": [],
   "source": [
    "sales_lags = [0,1,2,3,4,5,6,7,11,15,19,25,51]\n",
    "sales_rolling_mean = [4,8,12,26,52]\n",
    "price_lags = [0,1,2,3]\n",
    "price_rolling_mean = [4,8,12,26,52]\n",
    "\n",
    "sales_by_warehouse_lags = [0,1,2,3]\n",
    "sales_by_client_lags = [0,1,2,3]\n",
    "\n",
    "date_features = [\"year\", \"month\", \"day\"]\n",
    "static_features = [\n",
    "    {\"name\": \"Client\", \"categorical\": True},\n",
    "    {\"name\": \"Warehouse\", \"categorical\": True},\n",
    "    {\"name\": \"Product\", \"categorical\": True},\n",
    "]\n",
    "# check if product not categorical or no product is actually better"
   ]
  },
  {
   "cell_type": "code",
   "execution_count": null,
   "metadata": {},
   "outputs": [],
   "source": [
    "BASE_CONFIG = {\n",
    "    \"engine_params\": {\n",
    "        \"verbose\": 0,\n",
    "    },\n",
    "    \"multi_horizon\": True,\n",
    "    \"preprocessing_config\": {\n",
    "        \"normalize_price\": False,\n",
    "        \"normalize_sales\": False,\n",
    "        \"static_feature_list\": static_features,\n",
    "        \"date_features\": date_features,\n",
    "        \"data_feature_eng_list\": [\n",
    "            {\n",
    "                \"source\": \"sales\",\n",
    "                \"groupby\": None,\n",
    "                \"feature_eng_list\": [\n",
    "                    {\"kind\": \"rolling\", \"params\": {\"window\": w, \"statistic\": \"mean\"}} for w in sales_rolling_mean\n",
    "                ] + [\n",
    "                    {\"kind\": \"lag\", \"params\": {\"lag\": l}} for l in sales_lags\n",
    "                ],\n",
    "            },\n",
    "            {\n",
    "                \"source\": \"sales\",\n",
    "                \"groupby\": [\"Warehouse\"],\n",
    "                \"feature_eng_list\": [\n",
    "                    {\"kind\": \"lag\", \"params\": {\"lag\": l}} for l in sales_by_warehouse_lags\n",
    "                ],\n",
    "            },\n",
    "            {\n",
    "                \"source\": \"sales\",\n",
    "                \"groupby\": [\"Client\"],\n",
    "                \"feature_eng_list\": [\n",
    "                    {\"kind\": \"lag\", \"params\": {\"lag\": l}} for l in sales_by_client_lags\n",
    "                ],\n",
    "            },\n",
    "            {\n",
    "                \"source\": \"price\",\n",
    "                \"groupby\": None,\n",
    "                \"feature_eng_list\": [\n",
    "                    {\"kind\": \"rolling\", \"params\": {\"window\": w, \"statistic\": \"mean\"}} for w in price_rolling_mean\n",
    "                ] + [\n",
    "                    {\"kind\": \"lag\", \"params\": {\"lag\": l}} for l in price_lags\n",
    "                ],\n",
    "            },\n",
    "        ],\n",
    "    },\n",
    "}"
   ]
  },
  {
   "cell_type": "code",
   "execution_count": null,
   "metadata": {},
   "outputs": [],
   "source": [
    "# with open(\"../config.yaml\",\"w\") as f:\n",
    "#     yaml.safe_dump(BASE_CONFIG,f)"
   ]
  },
  {
   "cell_type": "code",
   "execution_count": null,
   "metadata": {},
   "outputs": [],
   "source": [
    "# Define the hyperparameter space\n",
    "param_grid = {\n",
    "    'num_leaves': list(range(20, 150)),\n",
    "    'max_depth': list(range(3, 15)),\n",
    "    'learning_rate': [float(v) for v in np.logspace(-4, 0, 50)],\n",
    "    'n_estimators': list(range(50, 500)),\n",
    "    'min_child_samples': list(range(5, 100)),\n",
    "    'subsample': [0.5 + 0.05 * i for i in range(10)],\n",
    "    'colsample_bytree': [0.5 + 0.05 * i for i in range(10)]\n",
    "}\n",
    "\n",
    "# Initialize ParamSampler\n",
    "n_iter = 100\n",
    "param_sampler = ParameterSampler(param_grid, n_iter=n_iter, random_state=42)\n",
    "\n",
    "# Generate the combinations\n",
    "combinations = list(param_sampler)"
   ]
  },
  {
   "cell_type": "code",
   "execution_count": null,
   "metadata": {},
   "outputs": [],
   "source": [
    "path = Path(\"../configs/1_hparams_search\")\n",
    "os.makedirs(path)\n",
    "\n",
    "for i, params in enumerate(combinations):\n",
    "    config = deepcopy(BASE_CONFIG)\n",
    "    config[\"engine_params\"].update(**params)\n",
    "    i = str(i)\n",
    "    i = \"0\"* (3 - len(i)) + i\n",
    "    with open(path / f\"{i}_config.yaml\",\"w\") as f:\n",
    "        yaml.safe_dump(config,f)"
   ]
  },
  {
   "cell_type": "code",
   "execution_count": null,
   "metadata": {},
   "outputs": [],
   "source": []
  }
 ],
 "metadata": {
  "kernelspec": {
   "display_name": "Python 3 (ipykernel)",
   "language": "python",
   "name": "python3"
  },
  "language_info": {
   "codemirror_mode": {
    "name": "ipython",
    "version": 3
   },
   "file_extension": ".py",
   "mimetype": "text/x-python",
   "name": "python",
   "nbconvert_exporter": "python",
   "pygments_lexer": "ipython3",
   "version": "3.11.9"
  }
 },
 "nbformat": 4,
 "nbformat_minor": 4
}
