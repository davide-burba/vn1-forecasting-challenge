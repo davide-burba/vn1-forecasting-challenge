{
 "cells": [
  {
   "cell_type": "code",
   "execution_count": null,
   "id": "229fdd3e-2d21-40ed-befa-d925ea8dbb9b",
   "metadata": {},
   "outputs": [],
   "source": [
    "import pandas as pd\n",
    "import plotly.graph_objects as go\n",
    "from pathlib import Path\n",
    "import numpy as np\n",
    "\n",
    "from vn1.score import compute_competition_score"
   ]
  },
  {
   "cell_type": "code",
   "execution_count": null,
   "id": "1e791a3f-24f5-47dd-ad72-fc21d5c154ac",
   "metadata": {},
   "outputs": [],
   "source": [
    "base_path = Path(\"../mlruns/594158418212352111/6cdc635627e540728f8f89e5cdf3f700/artifacts/\")\n",
    "run_id = \"6cdc635627e540728f8f89e5cdf3f700\""
   ]
  },
  {
   "cell_type": "code",
   "execution_count": null,
   "id": "e5796e04-8f6d-40fc-a971-ab566fe95ff6",
   "metadata": {},
   "outputs": [],
   "source": [
    "preds = {}\n",
    "for fold in range(4):\n",
    "    preds[fold] = pd.read_pickle(base_path / f\"predictions_{run_id}_fold_{fold}.p\")"
   ]
  },
  {
   "cell_type": "code",
   "execution_count": null,
   "id": "7e77d2b7-3af1-45f5-8b4c-baae05041fec",
   "metadata": {},
   "outputs": [],
   "source": [
    "def compute_cv_score_multiplier(preds, multiplier):\n",
    "    scores = {}\n",
    "    for fold,(y_pred,y_test) in preds.items():\n",
    "        y_pred_corrected = y_pred * multiplier\n",
    "        err = y_pred_corrected - y_test\n",
    "        score = compute_competition_score(y_pred_corrected,y_test)\n",
    "        scores[fold] = score\n",
    "    \n",
    "    return float(sum(scores.values()) / len(scores))"
   ]
  },
  {
   "cell_type": "code",
   "execution_count": null,
   "id": "6568ff31-d9c0-4bb2-bc06-a34be4946d77",
   "metadata": {},
   "outputs": [],
   "source": [
    "compute_cv_score_multiplier(preds, multiplier=1)"
   ]
  },
  {
   "cell_type": "code",
   "execution_count": null,
   "id": "58872103-1643-4cba-b53e-7120821d2a25",
   "metadata": {},
   "outputs": [],
   "source": [
    "compute_cv_score_multiplier(preds, multiplier=0.99)"
   ]
  },
  {
   "cell_type": "code",
   "execution_count": null,
   "id": "61d4d071-7769-49b4-b095-ed52159bb653",
   "metadata": {},
   "outputs": [],
   "source": [
    "multiplier_scores = []\n",
    "multipliers = np.linspace(0.995,1,21)\n",
    "for multiplier in multipliers:\n",
    "    score = compute_cv_score_multiplier(preds, multiplier=multiplier)\n",
    "    multiplier_scores.append(score)\n",
    "    #print(multiplier, score)\n",
    "\n",
    "multiplier_df = pd.DataFrame({\"multiplier\": multipliers, \"score\": multiplier_scores})\n",
    "\n",
    "fig = go.Figure([go.Scatter(x=multiplier_df.multiplier, y=multiplier_df.score)])\n",
    "fig.update_layout(width=600)\n",
    "fig.show()"
   ]
  },
  {
   "cell_type": "code",
   "execution_count": null,
   "id": "976fcd2e-4746-4e02-9425-edac31c2385f",
   "metadata": {},
   "outputs": [],
   "source": [
    "# seems like 0.9955 is the minimum"
   ]
  },
  {
   "cell_type": "code",
   "execution_count": null,
   "id": "71593805-1ef9-47c1-bc6a-773707e2b974",
   "metadata": {},
   "outputs": [],
   "source": []
  }
 ],
 "metadata": {
  "kernelspec": {
   "display_name": "Python 3 (ipykernel)",
   "language": "python",
   "name": "python3"
  },
  "language_info": {
   "codemirror_mode": {
    "name": "ipython",
    "version": 3
   },
   "file_extension": ".py",
   "mimetype": "text/x-python",
   "name": "python",
   "nbconvert_exporter": "python",
   "pygments_lexer": "ipython3",
   "version": "3.11.9"
  }
 },
 "nbformat": 4,
 "nbformat_minor": 5
}
