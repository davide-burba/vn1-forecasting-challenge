{
 "cells": [
  {
   "cell_type": "code",
   "execution_count": null,
   "id": "229fdd3e-2d21-40ed-befa-d925ea8dbb9b",
   "metadata": {},
   "outputs": [],
   "source": [
    "import pandas as pd\n",
    "import plotly.graph_objects as go\n",
    "from pathlib import Path\n",
    "import numpy as np\n",
    "\n",
    "from vn1.score import compute_competition_score\n",
    "from vn1.config import load_config"
   ]
  },
  {
   "cell_type": "code",
   "execution_count": null,
   "id": "1e791a3f-24f5-47dd-ad72-fc21d5c154ac",
   "metadata": {},
   "outputs": [],
   "source": [
    "experiment_id = \"731866309624208429\"\n",
    "run_id = \"362c7ba7dd704e3f88f3f7f8b1f9c6cb\"\n",
    "# run_id = \"4ca672547045491486d1a4fd409d771f\"\n",
    "\n",
    "\n",
    "base_path = Path(f\"../mlruns/{experiment_id}/{run_id}/artifacts/\")"
   ]
  },
  {
   "cell_type": "code",
   "execution_count": null,
   "id": "b24ddfda-972a-4dd3-9091-2cf186fc0fff",
   "metadata": {},
   "outputs": [],
   "source": [
    "config = load_config(base_path / \"config.yaml\")\n",
    "if config.magic_multiplier != 1.0:\n",
    "    print(f\"\"\"\n",
    "        Warning!\n",
    "        Tuning run which used a magic multiplier different from 1 (={config.magic_multiplier}).\n",
    "        \"\"\")\n",
    "    "
   ]
  },
  {
   "cell_type": "code",
   "execution_count": null,
   "id": "e5796e04-8f6d-40fc-a971-ab566fe95ff6",
   "metadata": {},
   "outputs": [],
   "source": [
    "print(\"fold err abs_err\")\n",
    "preds = {}\n",
    "for fold in range(4):\n",
    "    (y_pred, y_test) = pd.read_pickle(base_path / f\"predictions_{run_id}_fold_{fold}.p\")\n",
    "    err = y_pred - y_test\n",
    "    print(fold, err.mean().round(3), abs(err).mean().round(1))\n",
    "    preds[fold] = (y_pred, y_test)\n"
   ]
  },
  {
   "cell_type": "code",
   "execution_count": null,
   "id": "3aba01f3",
   "metadata": {},
   "outputs": [],
   "source": [
    "# Notes:\n",
    "# - Always positive sum of errors (over-shooting)\n",
    "# - The most recent fold (zero) has the highest error"
   ]
  },
  {
   "cell_type": "code",
   "execution_count": null,
   "id": "7e77d2b7-3af1-45f5-8b4c-baae05041fec",
   "metadata": {},
   "outputs": [],
   "source": [
    "def compute_cv_score_multiplier(preds, multiplier):\n",
    "    scores = {}\n",
    "    for fold, (y_pred, y_test) in preds.items():\n",
    "        y_pred_corrected = y_pred * multiplier\n",
    "        score = compute_competition_score(y_pred_corrected, y_test)\n",
    "        scores[fold] = score\n",
    "\n",
    "    return float(sum(scores.values()) / len(scores))"
   ]
  },
  {
   "cell_type": "code",
   "execution_count": null,
   "id": "6568ff31-d9c0-4bb2-bc06-a34be4946d77",
   "metadata": {},
   "outputs": [],
   "source": [
    "compute_cv_score_multiplier(preds, multiplier=1)"
   ]
  },
  {
   "cell_type": "code",
   "execution_count": null,
   "id": "61d4d071-7769-49b4-b095-ed52159bb653",
   "metadata": {},
   "outputs": [],
   "source": [
    "multiplier_scores = []\n",
    "multipliers = np.linspace(0.995, 1, 21)\n",
    "for multiplier in multipliers:\n",
    "    score = compute_cv_score_multiplier(preds, multiplier=multiplier)\n",
    "    multiplier_scores.append(score)\n",
    "    # print(multiplier, score)\n",
    "\n",
    "multiplier_df = pd.DataFrame({\"multiplier\": multipliers, \"score\": multiplier_scores})\n",
    "\n",
    "fig = go.Figure([go.Scatter(x=multiplier_df.multiplier, y=multiplier_df.score)])\n",
    "fig.update_layout(width=600)\n",
    "fig.show()"
   ]
  },
  {
   "cell_type": "code",
   "execution_count": null,
   "id": "976fcd2e-4746-4e02-9425-edac31c2385f",
   "metadata": {},
   "outputs": [],
   "source": [
    "# seems like 0.9955 is the minimum"
   ]
  },
  {
   "cell_type": "code",
   "execution_count": null,
   "id": "71593805-1ef9-47c1-bc6a-773707e2b974",
   "metadata": {},
   "outputs": [],
   "source": []
  }
 ],
 "metadata": {
  "kernelspec": {
   "display_name": "Python 3 (ipykernel)",
   "language": "python",
   "name": "python3"
  },
  "language_info": {
   "codemirror_mode": {
    "name": "ipython",
    "version": 3
   },
   "file_extension": ".py",
   "mimetype": "text/x-python",
   "name": "python",
   "nbconvert_exporter": "python",
   "pygments_lexer": "ipython3",
   "version": "3.11.9"
  }
 },
 "nbformat": 4,
 "nbformat_minor": 5
}
