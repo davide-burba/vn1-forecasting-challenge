{
 "cells": [
  {
   "cell_type": "code",
   "execution_count": null,
   "id": "5081daeb-24ba-400e-acb7-902fb772d1dc",
   "metadata": {},
   "outputs": [],
   "source": [
    "import pandas as pd\n",
    "import plotly.graph_objects as go\n",
    "from sklearn.preprocessing import MinMaxScaler\n",
    "from vn1.data_loading import load_data"
   ]
  },
  {
   "cell_type": "code",
   "execution_count": null,
   "id": "be56eac9-3a53-4c21-ba71-531acfebbf56",
   "metadata": {},
   "outputs": [],
   "source": [
    "sales, price = load_data(2,\"../data/raw\")\n",
    "# submission = pd.read_csv(\"/Users/davideburba/Downloads/submission_8d5bd82f895a4374bf0e07efe4a75b08.csv\")\n",
    "# sales_with_submission = pd.concat([sales,submission[submission.columns[3:]]], axis=1)\n",
    "\n",
    "def to_ts(df):\n",
    "    df = df.copy()\n",
    "    df[\"ts_id\"] = df.Client.astype(str) + \"-\" + df.Warehouse.astype(str) + \"-\" + df.Product.astype(str)\n",
    "    df = df.set_index(\"ts_id\")\n",
    "    df = df[df.columns[3:]].T\n",
    "    df.index = pd.to_datetime(df.index)\n",
    "    return df\n",
    "\n",
    "\n",
    "\n",
    "sales = to_ts(sales)\n",
    "price = to_ts(price)\n",
    "#sales = to_ts(sales_with_submission) \n",
    "\n",
    "# sales_scaler = MinMaxScaler()\n",
    "# price_scaler = MinMaxScaler()\n",
    "# sales[:] = sales_scaler.fit_transform(sales)\n",
    "# price[:] = price_scaler.fit_transform(price)"
   ]
  },
  {
   "cell_type": "code",
   "execution_count": null,
   "id": "1864d0cb-ed9a-409b-b4a0-cc39b8b168e8",
   "metadata": {},
   "outputs": [],
   "source": [
    "N = 50\n",
    "\n",
    "def show_sample(df, n=10, title=\"\"):\n",
    "    trace = []\n",
    "    for c in df.sample(n=n, axis=1, random_state=123):\n",
    "        trace.append(go.Scatter(x=df.index,y=df[c], name = c))\n",
    "    go.Figure(trace, dict(title=title)).show()\n",
    "\n",
    "show_sample(sales, n=N)"
   ]
  },
  {
   "cell_type": "code",
   "execution_count": null,
   "id": "2e34443b-291b-4eaa-817d-6de76ede2947",
   "metadata": {},
   "outputs": [],
   "source": []
  }
 ],
 "metadata": {
  "kernelspec": {
   "display_name": "Python 3 (ipykernel)",
   "language": "python",
   "name": "python3"
  },
  "language_info": {
   "codemirror_mode": {
    "name": "ipython",
    "version": 3
   },
   "file_extension": ".py",
   "mimetype": "text/x-python",
   "name": "python",
   "nbconvert_exporter": "python",
   "pygments_lexer": "ipython3",
   "version": "3.11.9"
  }
 },
 "nbformat": 4,
 "nbformat_minor": 5
}
