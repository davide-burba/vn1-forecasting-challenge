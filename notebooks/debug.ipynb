{
 "cells": [
  {
   "cell_type": "code",
   "execution_count": null,
   "id": "e3660cc8-656e-42ea-b94f-0177034f0f9b",
   "metadata": {},
   "outputs": [],
   "source": [
    "from pathlib import Path\n",
    "\n",
    "import mlflow\n",
    "from fire import Fire\n",
    "\n",
    "from vn1.config import load_config, track_config_with_mlflow\n",
    "from vn1.data_loading import load_data\n",
    "from vn1.forecaster import Forecaster\n",
    "from vn1.submission import track_submission_with_mlflow, validate_submission\n",
    "\n",
    "PATH_RAW_DATA = Path(\"../data/raw/\")\n",
    "PATH_EXAMPLE_SUBMISSION = PATH_RAW_DATA / \"Submission Phase 1 - Random (3).csv\""
   ]
  },
  {
   "cell_type": "code",
   "execution_count": null,
   "id": "3c68b214-79a8-4ece-8702-22ba5216a8cf",
   "metadata": {},
   "outputs": [],
   "source": [
    "config_path = \"../configs/6_tune_mix_hparams/000_current_best.yaml\""
   ]
  },
  {
   "cell_type": "code",
   "execution_count": null,
   "id": "d660cc5b-2e65-4e8c-aea0-ae085df37cc2",
   "metadata": {},
   "outputs": [],
   "source": [
    "config = load_config(config_path)"
   ]
  },
  {
   "cell_type": "code",
   "execution_count": null,
   "id": "1613f06f-39bd-4cca-a8e4-a8b4887dd3f4",
   "metadata": {},
   "outputs": [],
   "source": [
    "sales, price = load_data(phase=1, path=PATH_RAW_DATA)"
   ]
  },
  {
   "cell_type": "code",
   "execution_count": null,
   "id": "ecd9e040-8729-40da-8800-2f88d9384484",
   "metadata": {},
   "outputs": [],
   "source": [
    "forecaster = Forecaster(config)"
   ]
  },
  {
   "cell_type": "code",
   "execution_count": null,
   "id": "92ce54e3-805c-4235-bd2b-93dd81cf4d0a",
   "metadata": {},
   "outputs": [],
   "source": [
    "submission = forecaster.build_future_predictions(sales, price)"
   ]
  },
  {
   "cell_type": "code",
   "execution_count": null,
   "id": "4f96abb5-b2aa-41fb-9c58-f022be651632",
   "metadata": {},
   "outputs": [],
   "source": []
  }
 ],
 "metadata": {
  "kernelspec": {
   "display_name": "Python 3 (ipykernel)",
   "language": "python",
   "name": "python3"
  },
  "language_info": {
   "codemirror_mode": {
    "name": "ipython",
    "version": 3
   },
   "file_extension": ".py",
   "mimetype": "text/x-python",
   "name": "python",
   "nbconvert_exporter": "python",
   "pygments_lexer": "ipython3",
   "version": "3.11.9"
  }
 },
 "nbformat": 4,
 "nbformat_minor": 5
}
